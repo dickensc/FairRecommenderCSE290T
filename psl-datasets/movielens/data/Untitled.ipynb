{
 "cells": [
  {
   "cell_type": "code",
   "execution_count": 61,
   "metadata": {},
   "outputs": [],
   "source": [
    "import pandas as pd\n",
    "import numpy as np\n",
    "import matplotlib.pyplot as plt\n",
    "from scipy.stats import gaussian_kde\n",
    "DATA_PATH = './'"
   ]
  },
  {
   "cell_type": "code",
   "execution_count": 15,
   "metadata": {},
   "outputs": [],
   "source": [
    "movies_df = pd.read_csv(DATA_PATH + \"/ml-1m/movies.dat\", sep='::', header=None, encoding=\"ISO-8859-1\",\n",
    "                        engine='python')\n",
    "movies_df.columns = [\"movieId\", \"movie title\", \"genres\"]\n",
    "movies_df = movies_df.join(movies_df[\"genres\"].str.get_dummies('|')).drop('genres', axis=1)\n",
    "movies_df = movies_df.astype({'movieId': int})\n",
    "movies_df = movies_df.set_index('movieId')\n",
    "\n",
    "ratings_df = pd.read_csv(DATA_PATH + '/ml-1m/ratings.dat', sep='::', header=None, engine='python')\n",
    "ratings_df.columns = ['userId', 'movieId', 'rating', 'timestamp']\n",
    "ratings_df = ratings_df.astype({'userId': int, 'movieId': int})\n",
    "ratings_df.rating = ratings_df.rating / ratings_df.rating.max()\n",
    "ratings_df = ratings_df.set_index(['userId', 'movieId'])\n",
    "\n",
    "user_df = pd.read_csv(DATA_PATH + '/ml-1m/users.dat', sep='::', header=None,\n",
    "                      encoding=\"ISO-8859-1\", engine='python')\n",
    "user_df.columns = ['userId', 'gender', 'age', 'occupation', 'zip']\n",
    "user_df = user_df.astype({'userId': int})\n",
    "user_df = user_df.set_index('userId')"
   ]
  },
  {
   "cell_type": "code",
   "execution_count": 19,
   "metadata": {},
   "outputs": [],
   "source": [
    "genres = ['Action', 'Romance', 'Crime', 'Musical', 'Sci-Fi']\n",
    "\n",
    "# filter movies and ratings outside of the genres\n",
    "movies_df = movies_df[movies_df[genres].sum(axis=1) >= 1]\n",
    "ratings_df = ratings_df.reindex(movies_df.index, level='movieId').dropna(axis='index')\n",
    "\n",
    "# filter users that have less than n ratings\n",
    "ratings_df = ratings_df.groupby('userId').filter(lambda x: x.shape[0] > 50)\n",
    "# filter ratings by users have dont have demographic information\n",
    "ratings_df = ratings_df.reindex(user_df.index, level='userId').dropna(axis='index')\n",
    "\n",
    "# filter users in user df that did not have n ratings\n",
    "user_df = user_df.loc[ratings_df.index.get_level_values('userId').unique()]\n",
    "# filter movies in movie df\n",
    "movies_df = movies_df.loc[ratings_df.index.get_level_values('movieId').unique()]"
   ]
  },
  {
   "cell_type": "code",
   "execution_count": 34,
   "metadata": {},
   "outputs": [
    {
     "data": {
      "text/plain": [
       "<matplotlib.axes._subplots.AxesSubplot at 0x7fe1b08dcc90>"
      ]
     },
     "execution_count": 34,
     "metadata": {},
     "output_type": "execute_result"
    },
    {
     "data": {
      "image/png": "[encoded data removed]",
      "text/plain": [
       "<Figure size 432x288 with 1 Axes>"
      ]
     },
     "metadata": {
      "needs_background": "light"
     },
     "output_type": "display_data"
    }
   ],
   "source": [
    "ratings_df.reset_index().movieId.value_counts().hist(bins=50)"
   ]
  },
  {
   "cell_type": "code",
   "execution_count": 35,
   "metadata": {},
   "outputs": [],
   "source": [
    "reindexed_ratings_df = ratings_df.reset_index()\n",
    "ratings_by_group = reindexed_ratings_df.groupby(lambda x: user_df.loc[reindexed_ratings_df.loc[x].userId].gender)"
   ]
  },
  {
   "cell_type": "code",
   "execution_count": 45,
   "metadata": {},
   "outputs": [],
   "source": [
    "female_ratings_by_movie = ratings_by_group.get_group('F').groupby('movieId')"
   ]
  },
  {
   "cell_type": "code",
   "execution_count": 47,
   "metadata": {},
   "outputs": [
    {
     "data": {
      "text/plain": [
       "dict_keys([3, 6, 7, 9, 10, 11, 15, 17, 20, 21, 22, 24, 25, 28, 29, 32, 35, 39, 42, 44, 46, 47, 48, 49, 50, 58, 64, 66, 68, 70, 71, 73, 74, 76, 81, 85, 89, 93, 95, 98, 105, 107, 110, 112, 117, 118, 122, 123, 129, 131, 139, 140, 145, 149, 151, 153, 160, 163, 164, 165, 168, 170, 172, 173, 179, 181, 182, 185, 195, 196, 198, 199, 202, 204, 207, 208, 215, 222, 224, 227, 236, 237, 239, 242, 245, 247, 249, 251, 252, 256, 258, 259, 260, 265, 266, 270, 276, 283, 286, 287, 288, 289, 290, 292, 293, 294, 295, 296, 301, 302, 303, 315, 316, 327, 329, 332, 338, 339, 342, 346, 349, 351, 353, 356, 357, 359, 360, 361, 362, 364, 367, 368, 376, 377, 378, 379, 380, 384, 387, 389, 390, 391, 393, 394, 405, 417, 420, 423, 425, 426, 427, 431, 434, 435, 438, 440, 442, 444, 446, 447, 451, 457, 459, 461, 462, 463, 464, 465, 466, 468, 469, 471, 474, 479, 480, 485, 493, 494, 496, 497, 498, 499, 502, 504, 507, 509, 511, 512, 513, 517, 519, 521, 522, 532, 533, 534, 539, 541, 543, 544, 546, 547, 548, 550, 551, 552, 555, 558, 566, 587, 588, 589, 592, 594, 595, 597, 605, 608, 610, 611, 613, 618, 623, 630, 631, 638, 648, 653, 659, 661, 667, 671, 674, 680, 681, 687, 688, 691, 692, 694, 697, 704, 707, 708, 716, 718, 732, 733, 736, 737, 741, 748, 750, 762, 764, 779, 780, 783, 786, 788, 798, 802, 803, 804, 807, 809, 815, 821, 829, 836, 838, 839, 849, 850, 852, 858, 861, 866, 867, 869, 874, 876, 880, 886, 889, 892, 898, 899, 900, 901, 902, 907, 910, 911, 912, 914, 915, 916, 918, 919, 920, 924, 925, 928, 930, 931, 932, 933, 935, 936, 937, 938, 940, 942, 943, 945, 956, 960, 962, 963, 968, 969, 974, 976, 987, 990, 996, 998, 999, 1000, 1004, 1019, 1022, 1024, 1028, 1029, 1030, 1031, 1032, 1034, 1035, 1036, 1037, 1043, 1046, 1047, 1049, 1053, 1057, 1059, 1061, 1066, 1067, 1068, 1071, 1077, 1081, 1083, 1084, 1087, 1088, 1089, 1093, 1094, 1097, 1100, 1101, 1112, 1127, 1129, 1152, 1172, 1175, 1179, 1181, 1183, 1188, 1196, 1197, 1198, 1199, 1200, 1201, 1205, 1206, 1210, 1211, 1213, 1214, 1215, 1216, 1218, 1220, 1221, 1222, 1226, 1227, 1230, 1232, 1233, 1234, 1240, 1242, 1244, 1247, 1248, 1253, 1260, 1261, 1264, 1265, 1270, 1274, 1275, 1277, 1282, 1286, 1287, 1288, 1290, 1291, 1296, 1298, 1301, 1304, 1306, 1307, 1313, 1320, 1334, 1335, 1339, 1352, 1353, 1356, 1357, 1370, 1371, 1372, 1373, 1374, 1375, 1376, 1377, 1378, 1379, 1380, 1381, 1382, 1383, 1385, 1387, 1388, 1389, 1391, 1393, 1396, 1398, 1404, 1408, 1409, 1415, 1416, 1429, 1431, 1432, 1434, 1438, 1441, 1447, 1453, 1455, 1457, 1458, 1463, 1466, 1468, 1472, 1473, 1475, 1477, 1479, 1480, 1487, 1488, 1489, 1493, 1495, 1496, 1497, 1498, 1499, 1500, 1501, 1502, 1514, 1518, 1520, 1523, 1525, 1527, 1535, 1539, 1541, 1542, 1544, 1549, 1550, 1552, 1554, 1556, 1562, 1564, 1566, 1569, 1570, 1571, 1573, 1574, 1580, 1584, 1586, 1587, 1589, 1590, 1591, 1593, 1597, 1598, 1599, 1600, 1601, 1603, 1604, 1605, 1606, 1608, 1610, 1616, 1617, 1620, 1626, 1627, 1629, 1632, 1636, 1639, 1643, 1645, 1647, 1653, 1656, 1658, 1662, 1666, 1667, 1669, 1671, 1674, 1675, 1676, 1680, 1681, 1683, 1684, 1685, 1686, 1687, 1688, 1690, 1692, 1711, 1720, 1721, 1722, 1729, 1732, 1733, 1735, 1739, 1744, 1748, 1749, 1750, 1752, 1754, 1755, 1760, 1762, 1767, 1769, 1770, 1772, 1777, 1779, 1782, 1785, 1788, 1791, 1792, 1796, 1799, 1801, 1804, 1805, 1809, 1817, 1821, 1825, 1829, 1831, 1833, 1835, 1842, 1850, 1854, 1856, 1858, 1862, 1866, 1867, 1869, 1874, 1876, 1878, 1882, 1888, 1894, 1895, 1897, 1902, 1906, 1909, 1910, 1912, 1916, 1917, 1918, 1921, 1924, 1925, 1926, 1932, 1944, 1945, 1946, 1947, 1951, 1953, 1954, 1959, 1965, 2000, 2001, 2002, 2006, 2008, 2009, 2010, 2011, 2012, 2013, 2017, 2019, 2020, 2021, 2023, 2025, 2027, 2028, 2029, 2034, 2038, 2041, 2045, 2046, 2049, 2053, 2054, 2058, 2062, 2063, 2065, 2067, 2078, 2080, 2081, 2083, 2084, 2087, 2088, 2091, 2092, 2093, 2094, 2096, 2099, 2100, 2102, 2105, 2108, 2110, 2112, 2115, 2116, 2117, 2125, 2126, 2127, 2130, 2135, 2140, 2143, 2145, 2146, 2153, 2154, 2157, 2158, 2159, 2166, 2167, 2168, 2170, 2171, 2173, 2175, 2193, 2194, 2208, 2209, 2215, 2231, 2232, 2243, 2248, 2253, 2256, 2257, 2259, 2260, 2262, 2266, 2268, 2273, 2275, 2278, 2280, 2281, 2287, 2288, 2291, 2292, 2297, 2300, 2303, 2307, 2311, 2316, 2322, 2331, 2332, 2334, 2339, 2340, 2344, 2346, 2347, 2353, 2363, 2364, 2365, 2366, 2367, 2368, 2369, 2370, 2373, 2376, 2377, 2385, 2387, 2388, 2389, 2391, 2393, 2394, 2396, 2402, 2403, 2404, 2405, 2406, 2407, 2408, 2409, 2410, 2411, 2412, 2414, 2415, 2421, 2422, 2424, 2425, 2426, 2427, 2428, 2443, 2448, 2450, 2454, 2455, 2456, 2457, 2458, 2468, 2469, 2475, 2476, 2481, 2482, 2485, 2487, 2490, 2491, 2495, 2496, 2497, 2498, 2502, 2506, 2510, 2511, 2524, 2525, 2526, 2527, 2528, 2529, 2530, 2531, 2532, 2533, 2534, 2535, 2540, 2542, 2549, 2553, 2554, 2558, 2561, 2565, 2568, 2569, 2570, 2571, 2572, 2578, 2580, 2581, 2582, 2585, 2586, 2589, 2594, 2597, 2600, 2605, 2613, 2614, 2615, 2616, 2617, 2620, 2621, 2625, 2626, 2628, 2629, 2633, 2640, 2641, 2642, 2643, 2656, 2657, 2658, 2660, 2661, 2662, 2663, 2664, 2665, 2666, 2667, 2668, 2671, 2672, 2675, 2679, 2681, 2692, 2697, 2699, 2701, 2704, 2708, 2715, 2720, 2721, 2722, 2723, 2724, 2726, 2735, 2737, 2741, 2746, 2748, 2763, 2764, 2769, 2774, 2801, 2802, 2805, 2807, 2808, 2812, 2815, 2816, 2817, 2818, 2822, 2823, 2826, 2827, 2833, 2834, 2835, 2837, 2842, 2843, 2851, 2857, 2863, 2872, 2873, 2875, 2877, 2879, 2880, 2881, 2884, 2885, 2888, 2892, 2893, 2894, 2900, 2901, 2905, 2906, 2912, 2916, 2917, 2919, 2920, 2924, 2927, 2934, 2935, 2941, 2942, 2943, 2944, 2946, 2947, 2948, 2949, 2950, 2951, 2952, 2956, 2962, 2963, 2965, 2968, 2969, 2971, 2978, 2985, 2986, 2989, 2990, 2991, 2993, 2998, 3000, 3004, 3019, 3020, 3024, 3029, 3032, 3033, 3044, 3046, 3058, 3061, 3062, 3070, 3073, 3081, 3082, 3094, 3097, 3099, 3103, 3104, 3106, 3107, 3108, 3113, 3117, 3122, 3137, 3139, 3142, 3144, 3153, 3155, 3156, 3159, 3165, 3175, 3190, 3197, 3199, 3206, 3208, 3225, 3244, 3247, 3256, 3257, 3259, 3261, 3265, 3266, 3267, 3268, 3269, 3272, 3274, 3275, 3283, 3284, 3293, 3300, 3301, 3304, 3307, 3310, 3315, 3316, 3320, 3326, 3328, 3334, 3335, 3340, 3343, 3353, 3354, 3357, 3358, 3362, 3364, 3366, 3368, 3372, 3375, 3384, 3389, 3394, 3401, 3404, 3405, 3406, 3413, 3414, 3417, 3418, 3419, 3422, 3426, 3427, 3430, 3431, 3432, 3433, 3434, 3435, 3436, 3438, 3439, 3440, 3441, 3442, 3444, 3452, 3453, 3454, 3464, 3471, 3474, 3475, 3479, 3486, 3488, 3501, 3503, 3512, 3516, 3517, 3519, 3521, 3524, 3527, 3528, 3529, 3531, 3536, 3540, 3545, 3549, 3554, 3555, 3563, 3572, 3573, 3574, 3576, 3578, 3584, 3588, 3592, 3593, 3599, 3600, 3602, 3604, 3605, 3606, 3610, 3612, 3614, 3616, 3623, 3624, 3628, 3633, 3635, 3638, 3639, 3643, 3648, 3654, 3658, 3659, 3660, 3661, 3662, 3663, 3664, 3665, 3666, 3667, 3668, 3675, 3684, 3685, 3696, 3697, 3698, 3699, 3700, 3701, 3702, 3703, 3704, 3705, 3710, 3716, 3717, 3719, 3725, 3726, 3729, 3735, 3739, 3740, 3741, 3743, 3744, 3745, 3748, 3753, 3755, 3758, 3759, 3761, 3763, 3764, 3765, 3766, 3767, 3768, 3769, 3770, 3771, 3775, 3776, 3780, 3781, 3782, 3783, 3793, 3796, 3802, 3805, 3807, 3822, 3824, 3826, 3827, 3833, 3834, 3836, 3841, 3850, 3854, 3855, 3860, 3863, 3864, 3874, 3877, 3878, 3879, 3885, 3889, 3891, 3895, 3896, 3898, 3906, 3909, 3910, 3923, 3926, 3927, 3931, 3932, 3933, 3934, 3937, 3946])"
      ]
     },
     "execution_count": 47,
     "metadata": {},
     "output_type": "execute_result"
    }
   ],
   "source": [
    "female_ratings_by_movie.groups.keys()"
   ]
  },
  {
   "cell_type": "code",
   "execution_count": 56,
   "metadata": {},
   "outputs": [
    {
     "data": {
      "text/plain": [
       "<matplotlib.axes._subplots.AxesSubplot at 0x7fe218ecb910>"
      ]
     },
     "execution_count": 56,
     "metadata": {},
     "output_type": "execute_result"
    },
    {
     "data": {
      "image/png": "[encoded data removed]",
      "text/plain": [
       "<Figure size 432x288 with 1 Axes>"
      ]
     },
     "metadata": {
      "needs_background": "light"
     },
     "output_type": "display_data"
    }
   ],
   "source": [
    "female_ratings_by_movie.get_group(3394).rating.hist()"
   ]
  },
  {
   "cell_type": "code",
   "execution_count": 79,
   "metadata": {},
   "outputs": [
    {
     "data": {
      "image/png": "[encoded data removed]",
      "text/plain": [
       "<Figure size 432x288 with 1 Axes>"
      ]
     },
     "metadata": {
      "needs_background": "light"
     },
     "output_type": "display_data"
    }
   ],
   "source": [
    "data = np.random.uniform(size=100000) * 0.2 + 0.4\n",
    "density = gaussian_kde(data)\n",
    "xs = np.linspace(0,1)\n",
    "density.covariance_factor = lambda : .0025\n",
    "density._compute_covariance()\n",
    "plt.figure()\n",
    "plt.plot(xs,density(xs))\n",
    "plt.show()"
   ]
  },
  {
   "cell_type": "code",
   "execution_count": 117,
   "metadata": {},
   "outputs": [],
   "source": [
    "def nextGamma(shape, scale):\n",
    "    if (shape < 1):\n",
    "        transform_flag = True\n",
    "        alpha = shape + 1\n",
    "    else: \n",
    "        transform_flag = False\n",
    "        alpha = shape\n",
    "\n",
    "    d = alpha - 1.0 / 3.0;\n",
    "    c = 1 / np.sqrt(9.0 * d)\n",
    "    V = -1\n",
    "    while (True):\n",
    "        while (V <= 0):\n",
    "            Z = np.random.normal()\n",
    "            V = 1 + c * Z;\n",
    "\n",
    "        #V is a truncated normal distribution\n",
    "        V = np.power(V, 3.0)\n",
    "        U = np.random.uniform()\n",
    "        \n",
    "        if ((U < 1.0 - 0.0331 * np.power(Z, 4.0)) or\n",
    "                (np.log(U) < 0.5 * np.power(Z, 2) + d * (1 - V + np.log(V)))):\n",
    "            gamma_sample = d * V\n",
    "            break\n",
    "        V = -1\n",
    "\n",
    "    if (transform_flag):\n",
    "        U = np.random.uniform()\n",
    "        gamma_sample = gamma_sample * np.power(U, (1 / shape))\n",
    "\n",
    "    return scale * gamma_sample"
   ]
  },
  {
   "cell_type": "code",
   "execution_count": 152,
   "metadata": {},
   "outputs": [],
   "source": [
    "data = []\n",
    "for i in range(100000):\n",
    "    data.append(nextGamma(9, 0.5))"
   ]
  },
  {
   "cell_type": "code",
   "execution_count": 153,
   "metadata": {},
   "outputs": [
    {
     "data": {
      "image/png": "[encoded data removed]",
      "text/plain": [
       "<Figure size 432x288 with 1 Axes>"
      ]
     },
     "metadata": {
      "needs_background": "light"
     },
     "output_type": "display_data"
    }
   ],
   "source": [
    "density = gaussian_kde(data)\n",
    "xs = np.linspace(0,20)\n",
    "density.covariance_factor = lambda : .25\n",
    "density._compute_covariance()\n",
    "plt.figure()\n",
    "plt.plot(xs,density(xs))\n",
    "plt.show()"
   ]
  },
  {
   "cell_type": "code",
   "execution_count": 154,
   "metadata": {},
   "outputs": [
    {
     "data": {
      "image/png": "[encoded data removed]",
      "text/plain": [
       "<Figure size 432x288 with 1 Axes>"
      ]
     },
     "metadata": {
      "needs_background": "light"
     },
     "output_type": "display_data"
    }
   ],
   "source": [
    "plt.figure()\n",
    "plt.hist(data, 100, (0,20))\n",
    "plt.show()"
   ]
  },
  {
   "cell_type": "code",
   "execution_count": null,
   "metadata": {},
   "outputs": [],
   "source": []
  }
 ],
 "metadata": {
  "kernelspec": {
   "display_name": "Python 3",
   "language": "python",
   "name": "python3"
  },
  "language_info": {
   "codemirror_mode": {
    "name": "ipython",
    "version": 3
   },
   "file_extension": ".py",
   "mimetype": "text/x-python",
   "name": "python",
   "nbconvert_exporter": "python",
   "pygments_lexer": "ipython3",
   "version": "3.7.4"
  }
 },
 "nbformat": 4,
 "nbformat_minor": 4
}
